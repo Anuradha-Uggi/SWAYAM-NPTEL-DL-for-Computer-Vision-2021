{
  "nbformat": 4,
  "nbformat_minor": 0,
  "metadata": {
    "colab": {
      "name": "DL4V_Assignment_0.ipynb",
      "provenance": [],
      "collapsed_sections": []
    },
    "kernelspec": {
      "display_name": "Python 3",
      "language": "python",
      "name": "python3"
    },
    "language_info": {
      "codemirror_mode": {
        "name": "ipython",
        "version": 3
      },
      "file_extension": ".py",
      "mimetype": "text/x-python",
      "name": "python",
      "nbconvert_exporter": "python",
      "pygments_lexer": "ipython3",
      "version": "3.7.3"
    }
  },
  "cells": [
    {
      "cell_type": "markdown",
      "metadata": {
        "id": "Sdf6X2hjDNFA"
      },
      "source": [
        "#### **Welcome to Assignment 0 on Deep Learning for Computer Vision.**\n",
        "In this assignment you will get a chance to understand and work on some of the commonly used functionalities of several Machine Learnign and Data Analysis libraries\n",
        "\n",
        "#### **Instructions**\n",
        "1. Use Python 3.x to run this notebook\n",
        "2. Write your code only in between the lines 'YOUR CODE STARTS HERE' and 'YOUR CODE ENDS HERE'.\n",
        "3. Look up the documentation for each of the Python and Numpy function used.\n",
        "4. This Assignment is just to make you understand several commonly used library functions.\n",
        "5. This assignment is **NOT** evaluated"
      ]
    },
    {
      "cell_type": "code",
      "metadata": {
        "id": "9LTkyyoa9Q2K"
      },
      "source": [
        "# DO NOT CHANGE THIS CODE\n",
        "import numpy as np\n",
        "np.random.seed(0)"
      ],
      "execution_count": 31,
      "outputs": []
    },
    {
      "cell_type": "markdown",
      "metadata": {
        "id": "8koNOLdwDSf_"
      },
      "source": [
        "#### Python Basics\n"
      ]
    },
    {
      "cell_type": "code",
      "metadata": {
        "id": "SqufR0fDDT9s"
      },
      "source": [
        "### Implement recursive fibonacci in the function below\n",
        "def recursive_fibonacci(n):\n",
        "  ## YOUR CODE STARTS HERE\n",
        "       X=[0,1]\n",
        "       for i in range(2,n+1):\n",
        "            C=X\n",
        "            C=C[int(i)-2]+C[int(i)-1]\n",
        "            X=np.append(X,C)\n",
        "            \n",
        "       return X[n]\n",
        "  ## YOUR CODE ENDS HERE"
      ],
      "execution_count": 33,
      "outputs": []
    },
    {
      "cell_type": "code",
      "metadata": {
        "colab": {
          "base_uri": "https://localhost:8080/"
        },
        "id": "rncsA0RIDTdJ",
        "outputId": "28c68616-89ae-47bc-cd12-77c139a8e90d"
      },
      "source": [
        "### Test your code using the function call below.\n",
        "recursive_fibonacci(10)"
      ],
      "execution_count": 36,
      "outputs": [
        {
          "output_type": "execute_result",
          "data": {
            "text/plain": [
              "55"
            ]
          },
          "metadata": {
            "tags": []
          },
          "execution_count": 36
        }
      ]
    },
    {
      "cell_type": "markdown",
      "metadata": {
        "id": "V0vcbpLPDXNw"
      },
      "source": [
        "#### Lambda function"
      ]
    },
    {
      "cell_type": "code",
      "metadata": {
        "id": "r0eP5yH9DYum"
      },
      "source": [
        "def sigmoid(x):\n",
        "  sigmoid = 1 / (1 + np.exp(-x))\n",
        "  return sigmoid\n",
        "\n",
        "## Implement the above sigmoid function using python lambda functions\n",
        "## YOUR CODE STARTS HERE\n",
        "sigmoid_lambda = lambda a:1 / (1 + np.exp(-a))\n",
        "## YOUR CODE ENDS HERE"
      ],
      "execution_count": 37,
      "outputs": []
    },
    {
      "cell_type": "code",
      "metadata": {
        "colab": {
          "base_uri": "https://localhost:8080/"
        },
        "id": "Z8OOFvDEKopC",
        "outputId": "580f2eb3-2f33-4940-9412-16d26b99753d"
      },
      "source": [
        "## Check you implementation by running this cell (should return True)\n",
        "sigmoid(1) == sigmoid_lambda(1)"
      ],
      "execution_count": 38,
      "outputs": [
        {
          "output_type": "execute_result",
          "data": {
            "text/plain": [
              "True"
            ]
          },
          "metadata": {
            "tags": []
          },
          "execution_count": 38
        }
      ]
    },
    {
      "cell_type": "markdown",
      "metadata": {
        "id": "VpfxvB4pKyrm"
      },
      "source": [
        "#### List Comprehension"
      ]
    },
    {
      "cell_type": "code",
      "metadata": {
        "id": "336h3e1fKt1h"
      },
      "source": [
        "div_by_four = []\n",
        "for number in range(200):\n",
        "    if number%4 == 0:\n",
        "        div_by_four.append(number)\n",
        "        \n",
        "## Implement the above function using list comprehensions\n",
        "## YOUR CODE STARTS HERE\n",
        "div_by_four_lc = [i  for i in range(200) if i%4==0]\n",
        "## YOUR CODE ENDS HERE"
      ],
      "execution_count": 43,
      "outputs": []
    },
    {
      "cell_type": "code",
      "metadata": {
        "colab": {
          "base_uri": "https://localhost:8080/"
        },
        "id": "sJbe5xkNKvof",
        "outputId": "f864d78d-8309-4b48-8035-11490b7abe24"
      },
      "source": [
        "## Check you implementation by running this cell (should return True)\n",
        "div_by_four == div_by_four_lc"
      ],
      "execution_count": 44,
      "outputs": [
        {
          "output_type": "execute_result",
          "data": {
            "text/plain": [
              "True"
            ]
          },
          "metadata": {
            "tags": []
          },
          "execution_count": 44
        }
      ]
    },
    {
      "cell_type": "markdown",
      "metadata": {
        "id": "CnmH9QeBDdqo"
      },
      "source": [
        "#### Python map keyword\n",
        "Using the lambda functions and python's map keyword apply sigmoid on a list of numbers from 0 to 99. Store the output in a list and print it. \n",
        "\n",
        "**Observe what happens to the value of sigmoid as the value of x increases. Do you see any trend?**"
      ]
    },
    {
      "cell_type": "code",
      "metadata": {
        "colab": {
          "base_uri": "https://localhost:8080/"
        },
        "id": "O0KFWmM6DcYF",
        "outputId": "8a2e22da-f5b2-4f27-b866-c8c9ff7cbd35"
      },
      "source": [
        "## YOUR CODE STARTS HERE\n",
        "inp=[i for i in range(100)]\n",
        "out = list(map(lambda a:1 / (1 + np.exp(-a)),inp))\n",
        "print(out)\n",
        "## YOUR CODE ENDS HERE\n",
        "#observation:as x increases sigmod vale increases and saturates "
      ],
      "execution_count": 48,
      "outputs": [
        {
          "output_type": "stream",
          "text": [
            "[0.5, 0.7310585786300049, 0.8807970779778823, 0.9525741268224334, 0.9820137900379085, 0.9933071490757153, 0.9975273768433653, 0.9990889488055994, 0.9996646498695336, 0.9998766054240137, 0.9999546021312976, 0.999983298578152, 0.9999938558253978, 0.999997739675702, 0.9999991684719722, 0.999999694097773, 0.9999998874648379, 0.9999999586006244, 0.9999999847700205, 0.9999999943972036, 0.9999999979388463, 0.9999999992417439, 0.9999999997210531, 0.9999999998973812, 0.9999999999622486, 0.999999999986112, 0.999999999994891, 0.9999999999981204, 0.9999999999993086, 0.9999999999997455, 0.9999999999999065, 0.9999999999999656, 0.9999999999999873, 0.9999999999999953, 0.9999999999999982, 0.9999999999999993, 0.9999999999999998, 1.0, 1.0, 1.0, 1.0, 1.0, 1.0, 1.0, 1.0, 1.0, 1.0, 1.0, 1.0, 1.0, 1.0, 1.0, 1.0, 1.0, 1.0, 1.0, 1.0, 1.0, 1.0, 1.0, 1.0, 1.0, 1.0, 1.0, 1.0, 1.0, 1.0, 1.0, 1.0, 1.0, 1.0, 1.0, 1.0, 1.0, 1.0, 1.0, 1.0, 1.0, 1.0, 1.0, 1.0, 1.0, 1.0, 1.0, 1.0, 1.0, 1.0, 1.0, 1.0, 1.0, 1.0, 1.0, 1.0, 1.0, 1.0, 1.0, 1.0, 1.0, 1.0, 1.0]\n"
          ],
          "name": "stdout"
        }
      ]
    },
    {
      "cell_type": "markdown",
      "metadata": {
        "id": "VT3ZYI-I1lnd"
      },
      "source": [
        "# Numpy Basics:\n"
      ]
    },
    {
      "cell_type": "markdown",
      "metadata": {
        "id": "xK6sSYVF9fd6"
      },
      "source": [
        "#### Creating a numpy array with particular value\n"
      ]
    },
    {
      "cell_type": "code",
      "metadata": {
        "colab": {
          "base_uri": "https://localhost:8080/"
        },
        "id": "sSfnCu7z9sLi",
        "outputId": "93784752-6e4a-4111-d82b-2cab6128360b"
      },
      "source": [
        "# Create a numpy array with size 2*2 with all elements as 8.\n",
        "\n",
        "# YOUR CODE STARTS HERE\n",
        "arr = np.ones([2,2])*8\n",
        "d=np.array(arr)\n",
        "print(d)\n",
        "# YOUR CODE ENDS HERE"
      ],
      "execution_count": 55,
      "outputs": [
        {
          "output_type": "stream",
          "text": [
            "[[8. 8.]\n",
            " [8. 8.]]\n"
          ],
          "name": "stdout"
        }
      ]
    },
    {
      "cell_type": "markdown",
      "metadata": {
        "id": "GeBrhozVLuAz"
      },
      "source": [
        "#### Basic Numpy operations:"
      ]
    },
    {
      "cell_type": "code",
      "metadata": {
        "colab": {
          "base_uri": "https://localhost:8080/"
        },
        "id": "lGxwXbQ05J9y",
        "outputId": "e79eea81-7594-46da-c394-81f3a92ea36c"
      },
      "source": [
        "#Create a numpy array of size 3*3 with random values \n",
        "\n",
        "#YOUR CODE STARTS HERE\n",
        "rand_arr = np.random.randint(1,10,(3,3))\n",
        "print(rand_arr)\n",
        "#YOUR CODE ENDS HERE\n",
        "\n"
      ],
      "execution_count": 57,
      "outputs": [
        {
          "output_type": "stream",
          "text": [
            "[[8 7 9]\n",
            " [9 2 7]\n",
            " [8 8 9]]\n"
          ],
          "name": "stdout"
        }
      ]
    },
    {
      "cell_type": "code",
      "metadata": {
        "colab": {
          "base_uri": "https://localhost:8080/"
        },
        "id": "cZvWczfHkrVe",
        "outputId": "5333c83b-d551-419c-e213-b762dd2eed4b"
      },
      "source": [
        "#Find the sum of all the elements, mean, maximum and minimum value of the numpy array defined above\n",
        "\n",
        "#YOUR CODE STARTS HERE\n",
        "arr_sum = np.sum(rand_arr)\n",
        "arr_mean = np.mean(rand_arr)\n",
        "arr_max = np.max(rand_arr)\n",
        "arr_min = np.min(rand_arr)\n",
        "#YOUR CODE ENDS HERE\n",
        "print(arr_sum,arr_mean,arr_max,arr_min)"
      ],
      "execution_count": 59,
      "outputs": [
        {
          "output_type": "stream",
          "text": [
            "67 7.444444444444445 9 2\n"
          ],
          "name": "stdout"
        }
      ]
    },
    {
      "cell_type": "markdown",
      "metadata": {
        "id": "1h0zn0xPKoZt"
      },
      "source": [
        "#### Reshaping and Indexing of Numpy Array:"
      ]
    },
    {
      "cell_type": "code",
      "metadata": {
        "colab": {
          "base_uri": "https://localhost:8080/"
        },
        "id": "mUmvsP_S6O1o",
        "outputId": "7ea0191f-984e-458c-c78e-4c787de786ab"
      },
      "source": [
        "#create a 1D numpy array of shape 35 with values 1,2,3..,35\n",
        "\n",
        "#YOUR CODE STARTS HERE\n",
        "y = np.linspace(1,35,35)\n",
        "print(y)\n",
        "#YOUR CODE ENDS HERE"
      ],
      "execution_count": 60,
      "outputs": [
        {
          "output_type": "stream",
          "text": [
            "[ 1.  2.  3.  4.  5.  6.  7.  8.  9. 10. 11. 12. 13. 14. 15. 16. 17. 18.\n",
            " 19. 20. 21. 22. 23. 24. 25. 26. 27. 28. 29. 30. 31. 32. 33. 34. 35.]\n"
          ],
          "name": "stdout"
        }
      ]
    },
    {
      "cell_type": "code",
      "metadata": {
        "colab": {
          "base_uri": "https://localhost:8080/"
        },
        "id": "afCQdcjgkyMS",
        "outputId": "4da02981-f899-48b0-d8f7-7f63e2ba12ef"
      },
      "source": [
        "# Reshape it as 2D array of shape (5,7)\n",
        "\n",
        "#YOUR CODE STARTS HERE\n",
        "y = np.reshape(y,[5,7])\n",
        "#YOUR CODE ENDS HERE\n",
        "y.shape\n",
        "print(y)"
      ],
      "execution_count": 65,
      "outputs": [
        {
          "output_type": "stream",
          "text": [
            "[[ 1.  2.  3.  4.  5.  6.  7.]\n",
            " [ 8.  9. 10. 11. 12. 13. 14.]\n",
            " [15. 16. 17. 18. 19. 20. 21.]\n",
            " [22. 23. 24. 25. 26. 27. 28.]\n",
            " [29. 30. 31. 32. 33. 34. 35.]]\n"
          ],
          "name": "stdout"
        }
      ]
    },
    {
      "cell_type": "code",
      "metadata": {
        "colab": {
          "base_uri": "https://localhost:8080/"
        },
        "id": "E5Kjphuyk1AW",
        "outputId": "692ac924-a800-4b6a-f3dc-8bc78c46c50e"
      },
      "source": [
        "# Extract all the elements from 2nd and 3rd row\n",
        "\n",
        "#YOUR CODE STARTS HERE\n",
        "y_row =y[1:3]\n",
        "#YOUR CODE ENDS HERE\n",
        "print(y_row)"
      ],
      "execution_count": 67,
      "outputs": [
        {
          "output_type": "stream",
          "text": [
            "[[ 8.  9. 10. 11. 12. 13. 14.]\n",
            " [15. 16. 17. 18. 19. 20. 21.]]\n"
          ],
          "name": "stdout"
        }
      ]
    },
    {
      "cell_type": "code",
      "metadata": {
        "colab": {
          "base_uri": "https://localhost:8080/"
        },
        "id": "9zpcaEYFk21B",
        "outputId": "3dbb00b5-7c82-4df9-add3-50a236b11081"
      },
      "source": [
        "# Extract all the elements from 3rd and 5th and 7th column\n",
        "\n",
        "#YOUR CODE STARTS HERE\n",
        "y_column = y[:,[2,4,6]]\n",
        "print(y_column)\n",
        "#YOUR CODE ENDS HERE"
      ],
      "execution_count": 78,
      "outputs": [
        {
          "output_type": "stream",
          "text": [
            "[[ 3.  5.  7.]\n",
            " [10. 12. 14.]\n",
            " [17. 19. 21.]\n",
            " [24. 26. 28.]\n",
            " [31. 33. 35.]]\n"
          ],
          "name": "stdout"
        }
      ]
    },
    {
      "cell_type": "markdown",
      "metadata": {
        "id": "icAVnHAtPuq9"
      },
      "source": [
        "#### Horizontal and vertical stacking of numpy array"
      ]
    },
    {
      "cell_type": "code",
      "metadata": {
        "colab": {
          "base_uri": "https://localhost:8080/"
        },
        "id": "0ExpG_f7OPhB",
        "outputId": "657d645c-e486-4d98-fd26-a1e961a7e3f1"
      },
      "source": [
        "## horizontal and vertical stacking of 1D arrays \n",
        "a = np.array([4.,2.])\n",
        "b = np.array([3.,8.])\n",
        "\n",
        "#YOUR CODE STARTS HERE\n",
        "# Horizontal stacking\n",
        "h_stack =np.hstack([a,b]) \n",
        "print('hi:',h_stack)\n",
        "\n",
        "# Vertical Stacking\n",
        "v_stack =np.vstack([a,b])\n",
        "print('heko:',v_stack)\n",
        "#YOUR CODE ENDS HERE"
      ],
      "execution_count": 84,
      "outputs": [
        {
          "output_type": "stream",
          "text": [
            "hi: [4. 2. 3. 8.]\n",
            "heko: [[4. 2.]\n",
            " [3. 8.]]\n"
          ],
          "name": "stdout"
        }
      ]
    },
    {
      "cell_type": "markdown",
      "metadata": {
        "id": "v0r_IgoQYW1p"
      },
      "source": [
        "#### `argmin` and `argmax` in numpy array"
      ]
    },
    {
      "cell_type": "code",
      "metadata": {
        "colab": {
          "base_uri": "https://localhost:8080/"
        },
        "id": "rh7FI-uZYWXR",
        "outputId": "6c4eefbd-2c97-4741-97ce-99c9b44c7f96"
      },
      "source": [
        "# Define an array\n",
        "arr = np.array([[5,12,51,25] ,[25,29,2,27]])\n",
        "\n",
        "# YOUR CODE STARTS HERE\n",
        "#Find the position of maximum and minimum value of above array\n",
        "max_idx = np.argmax(arr)\n",
        "min_idx = np.argmin(arr)\n",
        "print (max_idx,min_idx)\n",
        "\n",
        "#Find the indices of maximum and minimum value along each of its columns.\n",
        "max_col = [np.argmax(arr[:,i]) for i in range(4)]\n",
        "min_col = [np.argmin(arr[:,i]) for i in range(4)]\n",
        "print (max_col,min_col)\n",
        "\n",
        "#Find the indices of maximum and minimum value along each of the its rows.\n",
        "max_row = [np.argmax(arr[i,:]) for i in range(2)]\n",
        "min_row = [np.argmin(arr[1,:]) for i in range(2)]\n",
        "print (max_row,min_row)\n",
        "#YOUR CODE ENDS HERE"
      ],
      "execution_count": 90,
      "outputs": [
        {
          "output_type": "stream",
          "text": [
            "2 6\n",
            "[1, 1, 0, 1] [0, 0, 1, 0]\n",
            "[2, 1] [2, 2]\n"
          ],
          "name": "stdout"
        }
      ]
    }
  ]
}